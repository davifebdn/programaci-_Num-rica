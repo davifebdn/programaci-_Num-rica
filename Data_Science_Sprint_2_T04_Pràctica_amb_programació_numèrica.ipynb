{
  "nbformat": 4,
  "nbformat_minor": 0,
  "metadata": {
    "colab": {
      "name": "Data Science - Sprint 2. T04 - Pràctica amb programació numèrica.ipynb",
      "provenance": [],
      "authorship_tag": "ABX9TyP8jm9GdKKFxxS0YJXN7vTK",
      "include_colab_link": true
    },
    "kernelspec": {
      "name": "python3",
      "display_name": "Python 3"
    },
    "language_info": {
      "name": "python"
    }
  },
  "cells": [
    {
      "cell_type": "markdown",
      "metadata": {
        "id": "view-in-github",
        "colab_type": "text"
      },
      "source": [
        "<a href=\"https://colab.research.google.com/github/davifebdn/programacio_Numerica/blob/main/Data_Science_Sprint_2_T04_Pr%C3%A0ctica_amb_programaci%C3%B3_num%C3%A8rica.ipynb\" target=\"_parent\"><img src=\"https://colab.research.google.com/assets/colab-badge.svg\" alt=\"Open In Colab\"/></a>"
      ]
    },
    {
      "cell_type": "markdown",
      "source": [
        "# S02 T04: Pràctica amb programació numèrica\n",
        "Familiaritza't amb la Programació Numèrica a través de la llibreria NumPy. "
      ],
      "metadata": {
        "id": "ygubWOEi8_cr"
      }
    },
    {
      "cell_type": "markdown",
      "source": [
        "## Nivell 1"
      ],
      "metadata": {
        "id": "b_EcvXJy9HHB"
      }
    },
    {
      "cell_type": "markdown",
      "source": [
        "### Exercici 1\n",
        "\n",
        "Crea una funció que donat un Array d’una dimensió, et faci un resum estadístic bàsic de les dades. Si detecta que l’array té més d’una dimensió, ha de mostrar un missatge d’error."
      ],
      "metadata": {
        "id": "q7oIa0rR9L94"
      }
    },
    {
      "cell_type": "code",
      "source": [
        "import numpy as np\n",
        "import pandas as pd\n",
        "\n",
        "def funcio(arr):\n",
        "  if llista.ndim > 1:\n",
        "    print (\"ERROR: L'Array té més d'una dimensió\")\n",
        "  else:\n",
        "    print(\"Resum estadístic:\",\n",
        "          \"\\nLa suma dels valors és:\", llista.sum(), \n",
        "          \"\\nEl valor mínim és:\", llista.min(),\n",
        "          \"\\nEl valor màxim és:\", llista.max(),\n",
        "          \"\\nEl valor mitjà és:\", llista.mean())\n",
        "\n",
        "llista = np.array([[0, 1], [1, 2]])\n",
        "funcio(llista)\n",
        "\n",
        "llista = np.array([0, 1, 2, 3, 4, 5, 6, 7, 8, 9])\n",
        "funcio(llista)\n",
        "\n"
      ],
      "metadata": {
        "id": "jQW09nxH9Q7J",
        "colab": {
          "base_uri": "https://localhost:8080/"
        },
        "outputId": "5bd61bea-5ecb-49f2-e490-0b6e087108c5"
      },
      "execution_count": 31,
      "outputs": [
        {
          "output_type": "stream",
          "name": "stdout",
          "text": [
            "ERROR: L'Array té més d'una dimensió\n",
            "Resum estadístic: \n",
            "La suma dels valors és: 45 \n",
            "El valor mínim és: 0 \n",
            "El valor màxim és: 9 \n",
            "El valor mitjà és: 4.5\n"
          ]
        }
      ]
    },
    {
      "cell_type": "markdown",
      "source": [
        "### Exercici 2\n",
        "\n",
        "Crea una funció que et generi un quadrat NxN de nombres aleatoris entre el 0 i el 100."
      ],
      "metadata": {
        "id": "Nzh7TnBvLkfs"
      }
    },
    {
      "cell_type": "code",
      "source": [
        "def matriu(n):\n",
        "  return np.random.randint(100, size=(n,n))  \n",
        "\n",
        "matriu(8)"
      ],
      "metadata": {
        "colab": {
          "base_uri": "https://localhost:8080/"
        },
        "id": "xmmPT4u2L7r1",
        "outputId": "e6e28101-5c9a-4052-c0e4-c7e53017d547"
      },
      "execution_count": 32,
      "outputs": [
        {
          "output_type": "execute_result",
          "data": {
            "text/plain": [
              "array([[72, 65, 34, 45, 83, 33, 49, 38],\n",
              "       [25, 38, 96, 95, 57, 61, 18,  7],\n",
              "       [ 4, 85, 28, 11, 97, 84, 69, 15],\n",
              "       [30, 10, 48, 24,  9, 93, 87, 27],\n",
              "       [16, 84, 81, 94, 55, 56, 10, 39],\n",
              "       [82, 25, 84,  8, 65, 11, 25, 60],\n",
              "       [78, 50, 38, 54, 32, 48,  7, 71],\n",
              "       [ 3, 55, 12,  8, 55, 44,  0, 86]])"
            ]
          },
          "metadata": {},
          "execution_count": 32
        }
      ]
    },
    {
      "cell_type": "markdown",
      "source": [
        "### Exercici 3\n",
        "\n",
        "Crea una funció que donada una taula de dues dimensions, et calculi els totals per fila i els totals per columna. "
      ],
      "metadata": {
        "id": "4aZoe0Wtdg53"
      }
    },
    {
      "cell_type": "code",
      "source": [
        "def totals(arr):\n",
        "  sumafiles = np.add(arr[0], arr[1])\n",
        "  sumacol1 = np.sum(arr[0])\n",
        "  sumacol2 = np.sum(arr[1])\n",
        "  \n",
        "  return sumafiles, sumacol1, sumacol2\n",
        "\n",
        "totals([[0, 1, 2, 3, 4], [0, 1, 2, 3, 4]])"
      ],
      "metadata": {
        "colab": {
          "base_uri": "https://localhost:8080/"
        },
        "id": "lasvbuYsdwEh",
        "outputId": "e5f2542c-acbe-4574-c136-d1f320f939ae"
      },
      "execution_count": 33,
      "outputs": [
        {
          "output_type": "execute_result",
          "data": {
            "text/plain": [
              "(array([0, 2, 4, 6, 8]), 10, 10)"
            ]
          },
          "metadata": {},
          "execution_count": 33
        }
      ]
    },
    {
      "cell_type": "markdown",
      "source": [
        "### Exercici 4\n",
        "\n",
        "Implementa manualment una funció que calculi el coeficient de correlació. Informa’t-en sobre els seus usos i interpretació."
      ],
      "metadata": {
        "id": "uXad2-9jjFk4"
      }
    },
    {
      "cell_type": "code",
      "source": [
        "#El coeficient de correlació es pot trobar a: https://www.w3schools.com/datascience/ds_stat_correlation.asp\n",
        "import pandas as pd\n",
        "\n",
        "hores_de_feina = [1, 2, 3, 4, 5, 6, 7, 8, 9, 10]\n",
        "sprint = [1, 2, 3, 4, 5, 6, 7, 8, 9, 10]\n",
        "\n",
        "def correlacio (x,y):\n",
        "  hores_de_feina.corr()"
      ],
      "metadata": {
        "id": "RxTHmhNdjI7h"
      },
      "execution_count": 37,
      "outputs": []
    }
  ]
}