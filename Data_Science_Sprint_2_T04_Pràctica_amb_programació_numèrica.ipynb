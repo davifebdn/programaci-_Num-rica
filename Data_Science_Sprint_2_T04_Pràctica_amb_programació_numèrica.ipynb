{
  "nbformat": 4,
  "nbformat_minor": 0,
  "metadata": {
    "colab": {
      "name": "Data Science - Sprint 2. T04 - Pràctica amb programació numèrica.ipynb",
      "provenance": [],
      "authorship_tag": "ABX9TyPxsurG0NDGlkSzBSr09+ef",
      "include_colab_link": true
    },
    "kernelspec": {
      "name": "python3",
      "display_name": "Python 3"
    },
    "language_info": {
      "name": "python"
    }
  },
  "cells": [
    {
      "cell_type": "markdown",
      "metadata": {
        "id": "view-in-github",
        "colab_type": "text"
      },
      "source": [
        "<a href=\"https://colab.research.google.com/github/davifebdn/programacio_Numerica/blob/main/Data_Science_Sprint_2_T04_Pr%C3%A0ctica_amb_programaci%C3%B3_num%C3%A8rica.ipynb\" target=\"_parent\"><img src=\"https://colab.research.google.com/assets/colab-badge.svg\" alt=\"Open In Colab\"/></a>"
      ]
    },
    {
      "cell_type": "markdown",
      "source": [
        "# S02 T04: Pràctica amb programació numèrica\n",
        "Familiaritza't amb la Programació Numèrica a través de la llibreria NumPy. "
      ],
      "metadata": {
        "id": "ygubWOEi8_cr"
      }
    },
    {
      "cell_type": "markdown",
      "source": [
        "## Nivell 1"
      ],
      "metadata": {
        "id": "b_EcvXJy9HHB"
      }
    },
    {
      "cell_type": "markdown",
      "source": [
        "### Exercici 1\n",
        "\n",
        "Crea una funció que donat un Array d’una dimensió, et faci un resum estadístic bàsic de les dades. Si detecta que l’array té més d’una dimensió, ha de mostrar un missatge d’error."
      ],
      "metadata": {
        "id": "q7oIa0rR9L94"
      }
    },
    {
      "cell_type": "code",
      "source": [
        "import numpy as np\n",
        "import pandas as pd\n",
        "\n",
        "def funcio(arr):\n",
        "  if llista.ndim > 1:\n",
        "    print (\"ERROR: L'Array té més d'una dimensió\")\n",
        "  else:\n",
        "    print(\"Resum estadístic:\",\n",
        "          \"\\nLa suma dels valors és:\", llista.sum(), \n",
        "          \"\\nEl valor mínim és:\", llista.min(),\n",
        "          \"\\nEl valor màxim és:\", llista.max(),\n",
        "          \"\\nEl valor mitjà és:\", llista.mean())\n",
        "\n",
        "llista = np.array([[0, 1], [1, 2]])\n",
        "funcio(llista)\n",
        "\n",
        "llista = np.array([0, 1, 2, 3, 4, 5, 6, 7, 8, 9])\n",
        "funcio(llista)\n",
        "\n"
      ],
      "metadata": {
        "id": "jQW09nxH9Q7J",
        "colab": {
          "base_uri": "https://localhost:8080/"
        },
        "outputId": "a1b8c2b7-8e36-4df4-d200-eb9f50dbccdf"
      },
      "execution_count": 30,
      "outputs": [
        {
          "output_type": "stream",
          "name": "stdout",
          "text": [
            "ERROR: L'Array té més d'una dimensió\n",
            "Resum estadístic: \n",
            "La suma dels valors és: 45 \n",
            "El valor mínim és: 0 \n",
            "El valor màxim és: 9 \n",
            "El valor mitjà és: 4.5\n"
          ]
        }
      ]
    },
    {
      "cell_type": "markdown",
      "source": [
        "### Exercici 2\n",
        "\n",
        "Crea una funció que et generi un quadrat NxN de nombres aleatoris entre el 0 i el 100."
      ],
      "metadata": {
        "id": "Nzh7TnBvLkfs"
      }
    },
    {
      "cell_type": "code",
      "source": [
        "from numpy import random\n",
        "from numpy.random import randint\n",
        "\n",
        "def matriu(arr):\n",
        "  matriu = random.randint(100, size=(5,5))\n",
        "  print(matriu)\n",
        "\n",
        "matriu"
      ],
      "metadata": {
        "colab": {
          "base_uri": "https://localhost:8080/"
        },
        "id": "xmmPT4u2L7r1",
        "outputId": "21088bab-8674-4182-99ba-1eb1b2f7dfbb"
      },
      "execution_count": 40,
      "outputs": [
        {
          "output_type": "execute_result",
          "data": {
            "text/plain": [
              "<function __main__.matriu>"
            ]
          },
          "metadata": {},
          "execution_count": 40
        }
      ]
    }
  ]
}