{
  "nbformat": 4,
  "nbformat_minor": 0,
  "metadata": {
    "colab": {
      "name": "Untitled0.ipynb",
      "provenance": [],
      "authorship_tag": "ABX9TyOn4snpWOO60nRllUp9aoPc",
      "include_colab_link": true
    },
    "kernelspec": {
      "name": "python3",
      "display_name": "Python 3"
    },
    "language_info": {
      "name": "python"
    }
  },
  "cells": [
    {
      "cell_type": "markdown",
      "metadata": {
        "id": "view-in-github",
        "colab_type": "text"
      },
      "source": [
        "<a href=\"https://colab.research.google.com/github/davifebdn/programacio_Numerica/blob/main/Data_Science_Sprint_2_T04_Programacio_numerica.ipynb\" target=\"_parent\"><img src=\"https://colab.research.google.com/assets/colab-badge.svg\" alt=\"Open In Colab\"/></a>"
      ]
    },
    {
      "cell_type": "markdown",
      "source": [
        "# S02 T04: Pràctica amb programació numèrica\n",
        "Familiaritza't amb la Programació Numèrica a través de la llibreria NumPy. "
      ],
      "metadata": {
        "id": "ygubWOEi8_cr"
      }
    },
    {
      "cell_type": "markdown",
      "source": [
        "## Nivell 1"
      ],
      "metadata": {
        "id": "b_EcvXJy9HHB"
      }
    },
    {
      "cell_type": "markdown",
      "source": [
        "### Exercici 1\n",
        "\n",
        "Crea una funció que donat un Array d’una dimensió, et faci un resum estadístic bàsic de les dades. Si detecta que l’array té més d’una dimensió, ha de mostrar un missatge d’error."
      ],
      "metadata": {
        "id": "q7oIa0rR9L94"
      }
    },
    {
      "cell_type": "code",
      "source": [
        "import numpy as np\n",
        "import pandas as pd\n",
        "\n",
        "def funcio\n",
        "  if llista.ndim > 1:\n",
        "    print (\"ERROR: L'Array té més d'una dimensió\")\n",
        "  else:\n",
        "    print(llista.sum())\n",
        "    print(llista.cumsum())\n",
        "    print()"
      ],
      "metadata": {
        "id": "jQW09nxH9Q7J"
      },
      "execution_count": null,
      "outputs": []
    }
  ]
}